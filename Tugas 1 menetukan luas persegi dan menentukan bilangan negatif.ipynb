{
 "cells": [
  {
   "cell_type": "code",
   "execution_count": 5,
   "id": "8336f526",
   "metadata": {},
   "outputs": [
    {
     "name": "stdout",
     "output_type": "stream",
     "text": [
      "MENGHITUNG LUAS PERSEGI PANJANG\n",
      "\n",
      "Masukan Panjang: 3\n",
      "\n",
      "Masukan Lebar: 3\n",
      "\n",
      "Luas Persegi Panjang = 9.0\n"
     ]
    }
   ],
   "source": [
    "print(\"MENGHITUNG LUAS PERSEGI PANJANG\")\n",
    "\n",
    "panjang = float(input(\"\\nMasukan Panjang: \"))\n",
    "lebar = float(input(\"\\nMasukan Lebar: \"))\n",
    "\n",
    "luas = panjang*lebar\n",
    "\n",
    "print(\"\\nLuas Persegi Panjang =\",luas)\n"
   ]
  },
  {
   "cell_type": "code",
   "execution_count": 68,
   "id": "8b40d10e",
   "metadata": {},
   "outputs": [
    {
     "name": "stdout",
     "output_type": "stream",
     "text": [
      "=== Menentukan Bilangan ===\n",
      "Masukan niali : 444\n",
      "444 adalah Bilangan Positif\n"
     ]
    }
   ],
   "source": [
    "print ('=== Menentukan Bilangan ===')\n",
    " \n",
    "angka = int(input('Masukan niali : '))\n",
    "\n",
    "if angka<0:\n",
    "        print (' {0} adalah Bilangan Negatif'.format(angka))\n",
    "elif angka==0:\n",
    "        print ('{0} adalah 0'.format(angka))\n",
    "else :\n",
    "        print ('{0} adalah Bilangan Positif'.format(angka))"
   ]
  },
  {
   "cell_type": "code",
   "execution_count": null,
   "id": "98d0c009",
   "metadata": {},
   "outputs": [],
   "source": []
  },
  {
   "cell_type": "code",
   "execution_count": null,
   "id": "12b86512",
   "metadata": {},
   "outputs": [],
   "source": []
  }
 ],
 "metadata": {
  "kernelspec": {
   "display_name": "Python 3 (ipykernel)",
   "language": "python",
   "name": "python3"
  },
  "language_info": {
   "codemirror_mode": {
    "name": "ipython",
    "version": 3
   },
   "file_extension": ".py",
   "mimetype": "text/x-python",
   "name": "python",
   "nbconvert_exporter": "python",
   "pygments_lexer": "ipython3",
   "version": "3.10.0"
  }
 },
 "nbformat": 4,
 "nbformat_minor": 5
}
